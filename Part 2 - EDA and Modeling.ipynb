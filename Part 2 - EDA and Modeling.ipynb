{
 "cells": [
  {
   "cell_type": "markdown",
   "metadata": {},
   "source": [
    "# Part 2 - Exploratory Data Analaysis (EDA)\n",
    "\n",
    "In this notebook, we will explore the data a little bit. Create some plots, and see if we could garner any interesting insights. "
   ]
  },
  {
   "cell_type": "code",
   "execution_count": 1,
   "metadata": {},
   "outputs": [],
   "source": [
    "#importing the holy trinity of data science packages\n",
    "import pandas as pd \n",
    "import numpy as np\n",
    "import matplotlib.pyplot as plt\n",
    "\n",
    "#Other visualization packages\n",
    "import seaborn as sns\n"
   ]
  },
  {
   "cell_type": "code",
   "execution_count": 2,
   "metadata": {},
   "outputs": [
    {
     "data": {
      "text/html": [
       "<div>\n",
       "<style scoped>\n",
       "    .dataframe tbody tr th:only-of-type {\n",
       "        vertical-align: middle;\n",
       "    }\n",
       "\n",
       "    .dataframe tbody tr th {\n",
       "        vertical-align: top;\n",
       "    }\n",
       "\n",
       "    .dataframe thead th {\n",
       "        text-align: right;\n",
       "    }\n",
       "</style>\n",
       "<table border=\"1\" class=\"dataframe\">\n",
       "  <thead>\n",
       "    <tr style=\"text-align: right;\">\n",
       "      <th></th>\n",
       "      <th>title</th>\n",
       "      <th>location</th>\n",
       "      <th>description</th>\n",
       "      <th>telecommuting</th>\n",
       "      <th>has_company_logo</th>\n",
       "      <th>has_questions</th>\n",
       "      <th>employment_type</th>\n",
       "      <th>required_experience</th>\n",
       "      <th>required_education</th>\n",
       "      <th>industry</th>\n",
       "      <th>function</th>\n",
       "      <th>fraudulent</th>\n",
       "    </tr>\n",
       "  </thead>\n",
       "  <tbody>\n",
       "    <tr>\n",
       "      <th>0</th>\n",
       "      <td>Marketing Intern</td>\n",
       "      <td>US, NY, New York</td>\n",
       "      <td>Food52, a fast-growing, James Beard Award-winn...</td>\n",
       "      <td>0</td>\n",
       "      <td>1</td>\n",
       "      <td>0</td>\n",
       "      <td>Other</td>\n",
       "      <td>Internship</td>\n",
       "      <td>Bachelor's Degree</td>\n",
       "      <td>Marketing and Advertising</td>\n",
       "      <td>Marketing</td>\n",
       "      <td>0</td>\n",
       "    </tr>\n",
       "    <tr>\n",
       "      <th>1</th>\n",
       "      <td>Customer Service - Cloud Video Production</td>\n",
       "      <td>NZ, , Auckland</td>\n",
       "      <td>Organised - Focused - Vibrant - Awesome!Do you...</td>\n",
       "      <td>0</td>\n",
       "      <td>1</td>\n",
       "      <td>0</td>\n",
       "      <td>Full-time</td>\n",
       "      <td>Not Applicable</td>\n",
       "      <td>Bachelor's Degree</td>\n",
       "      <td>Marketing and Advertising</td>\n",
       "      <td>Customer Service</td>\n",
       "      <td>0</td>\n",
       "    </tr>\n",
       "    <tr>\n",
       "      <th>2</th>\n",
       "      <td>Commissioning Machinery Assistant (CMA)</td>\n",
       "      <td>US, IA, Wever</td>\n",
       "      <td>Our client, located in Houston, is actively se...</td>\n",
       "      <td>0</td>\n",
       "      <td>1</td>\n",
       "      <td>0</td>\n",
       "      <td>Full-time</td>\n",
       "      <td>Mid-Senior level</td>\n",
       "      <td>Bachelor's Degree</td>\n",
       "      <td>Computer Software</td>\n",
       "      <td>Sales</td>\n",
       "      <td>0</td>\n",
       "    </tr>\n",
       "    <tr>\n",
       "      <th>3</th>\n",
       "      <td>Account Executive - Washington DC</td>\n",
       "      <td>US, DC, Washington</td>\n",
       "      <td>THE COMPANY: ESRI – Environmental Systems Rese...</td>\n",
       "      <td>0</td>\n",
       "      <td>1</td>\n",
       "      <td>0</td>\n",
       "      <td>Full-time</td>\n",
       "      <td>Mid-Senior level</td>\n",
       "      <td>Bachelor's Degree</td>\n",
       "      <td>Computer Software</td>\n",
       "      <td>Sales</td>\n",
       "      <td>0</td>\n",
       "    </tr>\n",
       "    <tr>\n",
       "      <th>4</th>\n",
       "      <td>Bill Review Manager</td>\n",
       "      <td>US, FL, Fort Worth</td>\n",
       "      <td>JOB TITLE: Itemization Review ManagerLOCATION:...</td>\n",
       "      <td>0</td>\n",
       "      <td>1</td>\n",
       "      <td>1</td>\n",
       "      <td>Full-time</td>\n",
       "      <td>Mid-Senior level</td>\n",
       "      <td>Bachelor's Degree</td>\n",
       "      <td>Hospital &amp; Health Care</td>\n",
       "      <td>Health Care Provider</td>\n",
       "      <td>0</td>\n",
       "    </tr>\n",
       "    <tr>\n",
       "      <th>6</th>\n",
       "      <td>Head of Content (m/f)</td>\n",
       "      <td>DE, BE, Berlin</td>\n",
       "      <td>Your Responsibilities: Manage the English-spea...</td>\n",
       "      <td>0</td>\n",
       "      <td>1</td>\n",
       "      <td>1</td>\n",
       "      <td>Full-time</td>\n",
       "      <td>Mid-Senior level</td>\n",
       "      <td>Master's Degree</td>\n",
       "      <td>Online Media</td>\n",
       "      <td>Management</td>\n",
       "      <td>0</td>\n",
       "    </tr>\n",
       "    <tr>\n",
       "      <th>7</th>\n",
       "      <td>Lead Guest Service Specialist</td>\n",
       "      <td>US, CA, San Francisco</td>\n",
       "      <td>Who is Airenvy?Hey there! We are seasoned entr...</td>\n",
       "      <td>0</td>\n",
       "      <td>1</td>\n",
       "      <td>1</td>\n",
       "      <td>Full-time</td>\n",
       "      <td>Associate</td>\n",
       "      <td>High School or equivalent</td>\n",
       "      <td>Information Technology and Services</td>\n",
       "      <td>Customer Service</td>\n",
       "      <td>0</td>\n",
       "    </tr>\n",
       "  </tbody>\n",
       "</table>\n",
       "</div>"
      ],
      "text/plain": [
       "                                       title               location  \\\n",
       "0                           Marketing Intern       US, NY, New York   \n",
       "1  Customer Service - Cloud Video Production         NZ, , Auckland   \n",
       "2    Commissioning Machinery Assistant (CMA)          US, IA, Wever   \n",
       "3          Account Executive - Washington DC     US, DC, Washington   \n",
       "4                        Bill Review Manager     US, FL, Fort Worth   \n",
       "6                      Head of Content (m/f)         DE, BE, Berlin   \n",
       "7           Lead Guest Service Specialist     US, CA, San Francisco   \n",
       "\n",
       "                                         description  telecommuting  \\\n",
       "0  Food52, a fast-growing, James Beard Award-winn...              0   \n",
       "1  Organised - Focused - Vibrant - Awesome!Do you...              0   \n",
       "2  Our client, located in Houston, is actively se...              0   \n",
       "3  THE COMPANY: ESRI – Environmental Systems Rese...              0   \n",
       "4  JOB TITLE: Itemization Review ManagerLOCATION:...              0   \n",
       "6  Your Responsibilities: Manage the English-spea...              0   \n",
       "7  Who is Airenvy?Hey there! We are seasoned entr...              0   \n",
       "\n",
       "   has_company_logo  has_questions employment_type required_experience  \\\n",
       "0                 1              0           Other          Internship   \n",
       "1                 1              0       Full-time      Not Applicable   \n",
       "2                 1              0       Full-time    Mid-Senior level   \n",
       "3                 1              0       Full-time    Mid-Senior level   \n",
       "4                 1              1       Full-time    Mid-Senior level   \n",
       "6                 1              1       Full-time    Mid-Senior level   \n",
       "7                 1              1       Full-time           Associate   \n",
       "\n",
       "          required_education                             industry  \\\n",
       "0          Bachelor's Degree            Marketing and Advertising   \n",
       "1          Bachelor's Degree            Marketing and Advertising   \n",
       "2          Bachelor's Degree                    Computer Software   \n",
       "3          Bachelor's Degree                    Computer Software   \n",
       "4          Bachelor's Degree               Hospital & Health Care   \n",
       "6            Master's Degree                         Online Media   \n",
       "7  High School or equivalent  Information Technology and Services   \n",
       "\n",
       "               function  fraudulent  \n",
       "0             Marketing           0  \n",
       "1      Customer Service           0  \n",
       "2                 Sales           0  \n",
       "3                 Sales           0  \n",
       "4  Health Care Provider           0  \n",
       "6            Management           0  \n",
       "7      Customer Service           0  "
      ]
     },
     "metadata": {},
     "output_type": "display_data"
    },
    {
     "name": "stdout",
     "output_type": "stream",
     "text": [
      "(14836, 12)\n"
     ]
    }
   ],
   "source": [
    "df = pd.read_csv('data/cleaned_data.csv', index_col = 0)\n",
    "\n",
    "display(df.head(7))\n",
    "print(df.shape)"
   ]
  },
  {
   "cell_type": "code",
   "execution_count": 3,
   "metadata": {},
   "outputs": [
    {
     "data": {
      "image/png": "[encoded data removed]",
      "text/plain": [
       "<Figure size 720x360 with 1 Axes>"
      ]
     },
     "metadata": {
      "needs_background": "light"
     },
     "output_type": "display_data"
    }
   ],
   "source": [
    "#Ploting the Target variable\n",
    "plt.figure(figsize = (10,5))\n",
    "sns.countplot(x = df.fraudulent, data = df,palette=\"Set3\")\n",
    "plt.title('Fradulent (Target Variable) Count')\n",
    "plt.show()"
   ]
  },
  {
   "cell_type": "markdown",
   "metadata": {},
   "source": [
    "It is clear that our data is highly imbalanced. This may cause some difficulties when modeling with highly imbalanced data. "
   ]
  },
  {
   "cell_type": "code",
   "execution_count": 4,
   "metadata": {},
   "outputs": [
    {
     "data": {
      "image/png": "[encoded data removed]",
      "text/plain": [
       "<Figure size 1008x792 with 3 Axes>"
      ]
     },
     "metadata": {},
     "output_type": "display_data"
    }
   ],
   "source": [
    "#Stylistic Set\n",
    "sns.set(style=\"whitegrid\")\n",
    "\n",
    "plt.figure(figsize = (14,11))\n",
    "\n",
    "#fig 1\n",
    "plt.subplot(2,2,1)\n",
    "sns.countplot(y = df.employment_type, data = df,palette=\"Set3\", \n",
    "              order = df.employment_type.value_counts().index)\n",
    "plt.title(\"Employment Type Count\")\n",
    "plt.ylabel(\"\")\n",
    "\n",
    "#fig2\n",
    "plt.subplot(2,2,2)\n",
    "#matplotlib version\n",
    "#df.required_experience.value_counts().plot(kind='barh')\n",
    "#sns version\n",
    "sns.countplot(y = df.required_experience, data = df,palette=\"Set3\",\n",
    "             order = df.required_experience.value_counts().index)\n",
    "plt.title(\"Required Experience Count\")\n",
    "plt.ylabel(\"\")\n",
    "\n",
    "#fig 3\n",
    "plt.subplot(2,2,3)\n",
    "sns.countplot(y = df.required_education, data = df,palette=\"Set3\",\n",
    "             order = df.required_education.value_counts().index)\n",
    "plt.title(\"Required Education Count\")\n",
    "plt.ylabel(\"\")\n",
    "\n",
    "plt.tight_layout()\n",
    "plt.show()"
   ]
  },
  {
   "cell_type": "code",
   "execution_count": 5,
   "metadata": {},
   "outputs": [
    {
     "data": {
      "image/png": "[encoded data removed]",
      "text/plain": [
       "<Figure size 864x864 with 2 Axes>"
      ]
     },
     "metadata": {},
     "output_type": "display_data"
    }
   ],
   "source": [
    "industry = df.industry.value_counts()[:10]\n",
    "function = df.function.value_counts()[:10]\n",
    "\n",
    "plt.figure(figsize = (12,12))\n",
    "\n",
    "plt.subplot(2,1,1)\n",
    "industry.plot(kind = 'barh')\n",
    "plt.title('Top 10 Industries Represented in this Dataset.')\n",
    "plt.xlabel('Count')\n",
    "\n",
    "plt.subplot(2,1,2)\n",
    "function.plot(kind = 'barh')\n",
    "plt.title('Top 10 Business Functions Represented in this Dataset.')\n",
    "plt.xlabel('Count')\n",
    "\n",
    "plt.tight_layout()\n",
    "plt.show()"
   ]
  },
  {
   "cell_type": "markdown",
   "metadata": {},
   "source": [
    "### EDA Insights\n",
    "\n",
    "* Most job offers were Full-time, followed by Contract work.\n",
    "\n",
    "* Most jobs required an experience of mid-senior level, followed closely by Entry Level and Associate Level. Which is similar. \n",
    "\n",
    "* Most education experience required is a Bachelor’s Degree, with very few requiring Master’s Degree. Which signals that **work experience matters more** than education experience, and that the bachelor degree is a piece paper that proves you’ve done something. \n",
    "\n",
    "* In this dataset, The top 3 Industries were all tech related.\n",
    "\n",
    "* The top 3 business functions were Information Technology, Sales, and Engineering.\n",
    "\n",
    "\n",
    "#### Future Plots\n",
    "1. A couple of word cloud images, people for some reason love world clouds.\n",
    "2. Plot of a map, showing the counts of jobs for each country. etc."
   ]
  },
  {
   "cell_type": "markdown",
   "metadata": {},
   "source": [
    "## Feature Engineering & Modeling\n",
    "\n",
    "We need to do some feature engineering. I would like to one hot encode my categorical data, as well as fit a TFIDF Vectorizer to my text data column. Might do a Count Vectorizer as well, and see if that changes anything to my model. In addition, I probably want to fit a PCA to reduce computational time. \n",
    "\n",
    "**Next Steps:**\n",
    "\n",
    "1. One Hot Encode Cateogrical Data\n",
    "2. Fit in a TFIDF Vectorizer\n",
    "3. Fit in a Count Vectorizer\n",
    "4. Determine if using a PCA would help. "
   ]
  },
  {
   "cell_type": "code",
   "execution_count": 6,
   "metadata": {},
   "outputs": [],
   "source": [
    "#Make Copy\n",
    "df_2 = df.copy()\n",
    "\n",
    "# One Hot Encoding using Pandas get dummies function\n",
    "columns_to_1_hot = ['employment_type','required_experience','required_education',\n",
    "                   'industry', 'function']\n",
    "\n",
    "for column in columns_to_1_hot:\n",
    "    encoded = pd.get_dummies(df_2[column])\n",
    "    df_2 = pd.concat([df_2, encoded], axis = 1)\n"
   ]
  },
  {
   "cell_type": "markdown",
   "metadata": {},
   "source": [
    "For simplicity sake, I will also drop the *title* & *location* columns"
   ]
  },
  {
   "cell_type": "code",
   "execution_count": 7,
   "metadata": {},
   "outputs": [],
   "source": [
    "columns_to_1_hot += ['title', 'location']\n",
    "    \n",
    "#droping the original columns that we just one hot encoded from\n",
    "df_2 = df_2.drop(columns_to_1_hot, axis = 1)"
   ]
  },
  {
   "cell_type": "code",
   "execution_count": 8,
   "metadata": {},
   "outputs": [
    {
     "data": {
      "text/html": [
       "<div>\n",
       "<style scoped>\n",
       "    .dataframe tbody tr th:only-of-type {\n",
       "        vertical-align: middle;\n",
       "    }\n",
       "\n",
       "    .dataframe tbody tr th {\n",
       "        vertical-align: top;\n",
       "    }\n",
       "\n",
       "    .dataframe thead th {\n",
       "        text-align: right;\n",
       "    }\n",
       "</style>\n",
       "<table border=\"1\" class=\"dataframe\">\n",
       "  <thead>\n",
       "    <tr style=\"text-align: right;\">\n",
       "      <th></th>\n",
       "      <th>description</th>\n",
       "      <th>telecommuting</th>\n",
       "      <th>has_company_logo</th>\n",
       "      <th>has_questions</th>\n",
       "      <th>fraudulent</th>\n",
       "      <th>Contract</th>\n",
       "      <th>Full-time</th>\n",
       "      <th>Other</th>\n",
       "      <th>Part-time</th>\n",
       "      <th>Temporary</th>\n",
       "      <th>...</th>\n",
       "      <th>Public Relations</th>\n",
       "      <th>Purchasing</th>\n",
       "      <th>Quality Assurance</th>\n",
       "      <th>Research</th>\n",
       "      <th>Sales</th>\n",
       "      <th>Science</th>\n",
       "      <th>Strategy/Planning</th>\n",
       "      <th>Supply Chain</th>\n",
       "      <th>Training</th>\n",
       "      <th>Writing/Editing</th>\n",
       "    </tr>\n",
       "  </thead>\n",
       "  <tbody>\n",
       "    <tr>\n",
       "      <th>0</th>\n",
       "      <td>Food52, a fast-growing, James Beard Award-winn...</td>\n",
       "      <td>0</td>\n",
       "      <td>1</td>\n",
       "      <td>0</td>\n",
       "      <td>0</td>\n",
       "      <td>0</td>\n",
       "      <td>0</td>\n",
       "      <td>1</td>\n",
       "      <td>0</td>\n",
       "      <td>0</td>\n",
       "      <td>...</td>\n",
       "      <td>0</td>\n",
       "      <td>0</td>\n",
       "      <td>0</td>\n",
       "      <td>0</td>\n",
       "      <td>0</td>\n",
       "      <td>0</td>\n",
       "      <td>0</td>\n",
       "      <td>0</td>\n",
       "      <td>0</td>\n",
       "      <td>0</td>\n",
       "    </tr>\n",
       "    <tr>\n",
       "      <th>1</th>\n",
       "      <td>Organised - Focused - Vibrant - Awesome!Do you...</td>\n",
       "      <td>0</td>\n",
       "      <td>1</td>\n",
       "      <td>0</td>\n",
       "      <td>0</td>\n",
       "      <td>0</td>\n",
       "      <td>1</td>\n",
       "      <td>0</td>\n",
       "      <td>0</td>\n",
       "      <td>0</td>\n",
       "      <td>...</td>\n",
       "      <td>0</td>\n",
       "      <td>0</td>\n",
       "      <td>0</td>\n",
       "      <td>0</td>\n",
       "      <td>0</td>\n",
       "      <td>0</td>\n",
       "      <td>0</td>\n",
       "      <td>0</td>\n",
       "      <td>0</td>\n",
       "      <td>0</td>\n",
       "    </tr>\n",
       "    <tr>\n",
       "      <th>2</th>\n",
       "      <td>Our client, located in Houston, is actively se...</td>\n",
       "      <td>0</td>\n",
       "      <td>1</td>\n",
       "      <td>0</td>\n",
       "      <td>0</td>\n",
       "      <td>0</td>\n",
       "      <td>1</td>\n",
       "      <td>0</td>\n",
       "      <td>0</td>\n",
       "      <td>0</td>\n",
       "      <td>...</td>\n",
       "      <td>0</td>\n",
       "      <td>0</td>\n",
       "      <td>0</td>\n",
       "      <td>0</td>\n",
       "      <td>1</td>\n",
       "      <td>0</td>\n",
       "      <td>0</td>\n",
       "      <td>0</td>\n",
       "      <td>0</td>\n",
       "      <td>0</td>\n",
       "    </tr>\n",
       "  </tbody>\n",
       "</table>\n",
       "<p>3 rows × 198 columns</p>\n",
       "</div>"
      ],
      "text/plain": [
       "                                         description  telecommuting  \\\n",
       "0  Food52, a fast-growing, James Beard Award-winn...              0   \n",
       "1  Organised - Focused - Vibrant - Awesome!Do you...              0   \n",
       "2  Our client, located in Houston, is actively se...              0   \n",
       "\n",
       "   has_company_logo  has_questions  fraudulent  Contract  Full-time  Other  \\\n",
       "0                 1              0           0         0          0      1   \n",
       "1                 1              0           0         0          1      0   \n",
       "2                 1              0           0         0          1      0   \n",
       "\n",
       "   Part-time  Temporary  ...  Public Relations  Purchasing  Quality Assurance  \\\n",
       "0          0          0  ...                 0           0                  0   \n",
       "1          0          0  ...                 0           0                  0   \n",
       "2          0          0  ...                 0           0                  0   \n",
       "\n",
       "   Research  Sales  Science  Strategy/Planning  Supply Chain  Training  \\\n",
       "0         0      0        0                  0             0         0   \n",
       "1         0      0        0                  0             0         0   \n",
       "2         0      1        0                  0             0         0   \n",
       "\n",
       "   Writing/Editing  \n",
       "0                0  \n",
       "1                0  \n",
       "2                0  \n",
       "\n",
       "[3 rows x 198 columns]"
      ]
     },
     "execution_count": 8,
     "metadata": {},
     "output_type": "execute_result"
    }
   ],
   "source": [
    "df_2.head(3)"
   ]
  },
  {
   "cell_type": "markdown",
   "metadata": {},
   "source": [
    "### Handling the description column \n",
    "\n",
    "First of all we need to clean up our text data a little bit. Now let us creat some helper funcitons."
   ]
  },
  {
   "cell_type": "code",
   "execution_count": 9,
   "metadata": {},
   "outputs": [],
   "source": [
    "#Importing NLP plugins\n",
    "from nltk.corpus import stopwords \n",
    "stop_words = stopwords.words('english')\n",
    "from nltk.stem import WordNetLemmatizer \n",
    "import string\n",
    "\n",
    "#Import our TfidFVectorizer plugin\n",
    "from sklearn.feature_extraction.text import TfidfVectorizer"
   ]
  },
  {
   "cell_type": "code",
   "execution_count": 10,
   "metadata": {},
   "outputs": [],
   "source": [
    "def tokenizer(text):\n",
    "    \n",
    "    #All characters in this string will be converted to lowercase\n",
    "    text = text.lower()\n",
    "    \n",
    "    #Removing sentence punctuations\n",
    "    for punctuation_mark in string.punctuation:\n",
    "        text = text.replace(punctuation_mark,'')\n",
    "    \n",
    "    #Creating our list of tokens\n",
    "    list_of_tokens = text.split(' ')\n",
    "    #Creating our cleaned tokens list \n",
    "    cleaned_tokens = []\n",
    "    #Intatiating our Lemmatizer\n",
    "    lemmatizer = WordNetLemmatizer()\n",
    "    \n",
    "    #Removing Stop Words in our list of tokens and any tokens that happens to be empty strings\n",
    "    for token in list_of_tokens:\n",
    "        if (not token in stop_words) and (token != ''):\n",
    "            #lemmatizing our token\n",
    "            token_lemmatized = lemmatizer.lemmatize(token)\n",
    "            #appending our finalized cleaned token\n",
    "            cleaned_tokens.append(token_lemmatized)\n",
    "    \n",
    "    return cleaned_tokens"
   ]
  },
  {
   "cell_type": "markdown",
   "metadata": {},
   "source": [
    "### Creating our Baseline Model"
   ]
  },
  {
   "cell_type": "code",
   "execution_count": 39,
   "metadata": {},
   "outputs": [],
   "source": [
    "#Importing our Sklearn Plugins\n",
    "\n",
    "from sklearn.model_selection import train_test_split\n",
    "from sklearn.compose import ColumnTransformer\n",
    "from sklearn.feature_extraction.text import TfidfVectorizer\n",
    "from sklearn.feature_extraction.text import CountVectorizer\n",
    "from sklearn import preprocessing\n",
    "from sklearn.preprocessing import OneHotEncoder\n",
    "from sklearn.pipeline import make_pipeline\n",
    "from sklearn.pipeline import Pipeline\n",
    "\n",
    "#importing our models\n",
    "from sklearn.linear_model import LogisticRegression\n",
    "\n",
    "#Model Evaluation\n",
    "from sklearn.metrics import classification_report"
   ]
  },
  {
   "cell_type": "code",
   "execution_count": 12,
   "metadata": {},
   "outputs": [],
   "source": [
    "df_3 = df_2.copy()\n",
    "\n",
    "target = df_3.fraudulent\n",
    "features = df_3.drop(['fraudulent'], axis = 1)\n"
   ]
  },
  {
   "cell_type": "code",
   "execution_count": 13,
   "metadata": {},
   "outputs": [],
   "source": [
    "#Spliting our Data into train and test sets\n",
    "X_train, X_test, y_train, y_test = train_test_split(features, target, test_size = 0.2,\n",
    "                                                    stratify = target, random_state = 42)"
   ]
  },
  {
   "cell_type": "code",
   "execution_count": null,
   "metadata": {},
   "outputs": [],
   "source": []
  },
  {
   "cell_type": "markdown",
   "metadata": {},
   "source": [
    "# Model 1: Logistic Regression w/ TfidfVectorizer"
   ]
  },
  {
   "cell_type": "markdown",
   "metadata": {},
   "source": [
    "Will now be using SkLearn's [ColumnTransformer](https://scikit-learn.org/stable/modules/generated/sklearn.compose.ColumnTransformer.html) function to easily append our generated tfidfvectorizer features to our dataframe."
   ]
  },
  {
   "cell_type": "code",
   "execution_count": 14,
   "metadata": {},
   "outputs": [],
   "source": [
    "preprocess = ColumnTransformer([\n",
    "    ('description_tfidf', TfidfVectorizer(tokenizer = tokenizer, min_df = 0.1, ngram_range=(1,3)), 'description')])"
   ]
  },
  {
   "cell_type": "code",
   "execution_count": 15,
   "metadata": {},
   "outputs": [
    {
     "name": "stdout",
     "output_type": "stream",
     "text": [
      "CPU times: user 1min 2s, sys: 1.25 s, total: 1min 3s\n",
      "Wall time: 1min 5s\n"
     ]
    }
   ],
   "source": [
    "%%time\n",
    "model_logreg = make_pipeline(preprocess,\n",
    "                            LogisticRegression())\n",
    "\n",
    "model_logreg.fit(X_train, y_train)\n",
    "\n",
    "y_train_pred = model_logreg.predict(X_train)\n",
    "y_pred = model_logreg.predict(X_test)"
   ]
  },
  {
   "cell_type": "code",
   "execution_count": 37,
   "metadata": {},
   "outputs": [],
   "source": [
    "#Evaluation Plugins\n",
    "from sklearn.metrics import accuracy_score\n",
    "from sklearn.metrics import confusion_matrix\n",
    "from sklearn.metrics import classification_report\n",
    "from sklearn.metrics import roc_auc_score"
   ]
  },
  {
   "cell_type": "code",
   "execution_count": 21,
   "metadata": {},
   "outputs": [
    {
     "name": "stdout",
     "output_type": "stream",
     "text": [
      "0.9592318059299192\n"
     ]
    }
   ],
   "source": [
    "print(accuracy_score(y_test, y_pred))"
   ]
  },
  {
   "cell_type": "markdown",
   "metadata": {},
   "source": [
    "Pretty Good Accuracy, however, let's compare it to the Null accuracy.\n",
    "The Null accuracy is accuracy that could be achieve by always predicting the most frequent class."
   ]
  },
  {
   "cell_type": "code",
   "execution_count": 23,
   "metadata": {},
   "outputs": [
    {
     "data": {
      "text/plain": [
       "0.954177897574124"
      ]
     },
     "execution_count": 23,
     "metadata": {},
     "output_type": "execute_result"
    }
   ],
   "source": [
    "#null accuracy \n",
    "max(y_test.mean(), 1-y_test.mean())"
   ]
  },
  {
   "cell_type": "code",
   "execution_count": 34,
   "metadata": {},
   "outputs": [
    {
     "name": "stdout",
     "output_type": "stream",
     "text": [
      "[[2827    5]\n",
      " [ 116   20]]\n"
     ]
    }
   ],
   "source": [
    "cf_matrix = confusion_matrix(y_test,y_pred)\n",
    "print(cf_matrix)"
   ]
  },
  {
   "cell_type": "markdown",
   "metadata": {},
   "source": [
    "It seems our model has incorectly predicted 5 of our postive models as negative, and incorectly predicted 116 of our negative class as positive. "
   ]
  },
  {
   "cell_type": "code",
   "execution_count": 35,
   "metadata": {},
   "outputs": [
    {
     "name": "stdout",
     "output_type": "stream",
     "text": [
      "              precision    recall  f1-score   support\n",
      "\n",
      "           0       0.96      1.00      0.98      2832\n",
      "           1       0.80      0.15      0.25       136\n",
      "\n",
      "    accuracy                           0.96      2968\n",
      "   macro avg       0.88      0.57      0.61      2968\n",
      "weighted avg       0.95      0.96      0.95      2968\n",
      "\n"
     ]
    }
   ],
   "source": [
    "print(classification_report(y_test, y_pred))"
   ]
  },
  {
   "cell_type": "code",
   "execution_count": 38,
   "metadata": {},
   "outputs": [
    {
     "name": "stdout",
     "output_type": "stream",
     "text": [
      "0.572646643403124\n"
     ]
    }
   ],
   "source": [
    "print(roc_auc_score(y_test, y_pred))"
   ]
  },
  {
   "cell_type": "markdown",
   "metadata": {},
   "source": [
    "Honestly, our model is not great. This is due to our highly imbalanced data. Let's see if we could improve upon this model.\n",
    "\n",
    "# Model Iteration 2: Logistic Regression with Count Vectorizer"
   ]
  },
  {
   "cell_type": "code",
   "execution_count": 40,
   "metadata": {},
   "outputs": [],
   "source": [
    "preprocess_cv = ColumnTransformer([\n",
    "    ('description_cv', CountVectorizer(tokenizer = tokenizer, min_df = 0.1, ngram_range=(1,3)), 'description')])"
   ]
  },
  {
   "cell_type": "code",
   "execution_count": 41,
   "metadata": {},
   "outputs": [
    {
     "name": "stdout",
     "output_type": "stream",
     "text": [
      "CPU times: user 1min 3s, sys: 3.01 s, total: 1min 6s\n",
      "Wall time: 1min 15s\n"
     ]
    }
   ],
   "source": [
    "%%time\n",
    "model_logreg_cv = make_pipeline(preprocess_cv,\n",
    "                            LogisticRegression())\n",
    "\n",
    "model_logreg_cv.fit(X_train, y_train)\n",
    "\n",
    "y_train_pred_cv = model_logreg_cv.predict(X_train)\n",
    "y_pred_cv = model_logreg_cv.predict(X_test)"
   ]
  },
  {
   "cell_type": "code",
   "execution_count": 42,
   "metadata": {},
   "outputs": [
    {
     "name": "stdout",
     "output_type": "stream",
     "text": [
      "0.9592318059299192\n"
     ]
    }
   ],
   "source": [
    "print(accuracy_score(y_test, y_pred_cv))"
   ]
  },
  {
   "cell_type": "code",
   "execution_count": 43,
   "metadata": {},
   "outputs": [
    {
     "name": "stdout",
     "output_type": "stream",
     "text": [
      "[[2819   13]\n",
      " [ 108   28]]\n"
     ]
    }
   ],
   "source": [
    "cf_matrix = confusion_matrix(y_test,y_pred_cv)\n",
    "print(cf_matrix)"
   ]
  },
  {
   "cell_type": "code",
   "execution_count": 45,
   "metadata": {},
   "outputs": [
    {
     "name": "stdout",
     "output_type": "stream",
     "text": [
      "              precision    recall  f1-score   support\n",
      "\n",
      "           0       0.96      1.00      0.98      2832\n",
      "           1       0.68      0.21      0.32       136\n",
      "\n",
      "    accuracy                           0.96      2968\n",
      "   macro avg       0.82      0.60      0.65      2968\n",
      "weighted avg       0.95      0.96      0.95      2968\n",
      "\n"
     ]
    }
   ],
   "source": [
    "print(classification_report(y_test, y_pred_cv))"
   ]
  },
  {
   "cell_type": "code",
   "execution_count": 46,
   "metadata": {},
   "outputs": [
    {
     "name": "stdout",
     "output_type": "stream",
     "text": [
      "0.6006459787304752\n"
     ]
    }
   ],
   "source": [
    "print(roc_auc_score(y_test, y_pred_cv))"
   ]
  },
  {
   "cell_type": "markdown",
   "metadata": {},
   "source": [
    "Suprisingly our Count Vectorizer did a better job overall than our Tfidf model, based our our evaluation metrics. In this case I'm looking at the AUC score. The closer it is to 1 the better the model is at predicting. "
   ]
  },
  {
   "cell_type": "markdown",
   "metadata": {},
   "source": [
    "# Model 3: Optimzed Logistic Regression w/ Count Vectorizer\n",
    "\n"
   ]
  },
  {
   "cell_type": "code",
   "execution_count": null,
   "metadata": {},
   "outputs": [],
   "source": []
  },
  {
   "cell_type": "code",
   "execution_count": null,
   "metadata": {},
   "outputs": [],
   "source": []
  },
  {
   "cell_type": "markdown",
   "metadata": {},
   "source": [
    "# Model 4: K-NeighborClassifier"
   ]
  },
  {
   "cell_type": "code",
   "execution_count": 57,
   "metadata": {},
   "outputs": [
    {
     "data": {
      "text/plain": [
       "[nan, nan, nan, nan, nan, nan, nan, nan, nan, nan, nan, nan, nan, nan, nan]"
      ]
     },
     "execution_count": 57,
     "metadata": {},
     "output_type": "execute_result"
    }
   ],
   "source": [
    "from sklearn.neighbors import KNeighborsClassifier\n",
    "from sklearn.model_selection import cross_val_score\n",
    "from sklearn.compose import make_column_transformer\n",
    "\n",
    "k_range = np.arange(1,31,2)\n",
    "k_scores"
   ]
  },
  {
   "cell_type": "code",
   "execution_count": 58,
   "metadata": {},
   "outputs": [],
   "source": [
    "column_trans = make_column_transformer(\n",
    "    (CountVectorizer(tokenizer = tokenizer, min_df = 0.1, ngram_range=(1,3)), ['description']),\n",
    "    remainder='passthrough')"
   ]
  },
  {
   "cell_type": "code",
   "execution_count": 71,
   "metadata": {},
   "outputs": [],
   "source": [
    "features_cv = preprocess_cv.fit_transform(features)"
   ]
  },
  {
   "cell_type": "code",
   "execution_count": 72,
   "metadata": {},
   "outputs": [
    {
     "data": {
      "text/plain": [
       "<14836x206 sparse matrix of type '<class 'numpy.int64'>'\n",
       "\twith 553879 stored elements in Compressed Sparse Row format>"
      ]
     },
     "execution_count": 72,
     "metadata": {},
     "output_type": "execute_result"
    }
   ],
   "source": [
    "features_cv"
   ]
  },
  {
   "cell_type": "code",
   "execution_count": null,
   "metadata": {},
   "outputs": [],
   "source": [
    "%%time\n",
    "for k in np.arange(1,31,2):\n",
    "    knn = KNeighborsClassifier(n_neighbors = k)\n",
    "    scores = cross_val_score(knn, features, target, cv = 10, scoring = 'roc_auc')\n",
    "    k_scores.append(scores.mean())"
   ]
  },
  {
   "cell_type": "code",
   "execution_count": null,
   "metadata": {},
   "outputs": [],
   "source": []
  }
 ],
 "metadata": {
  "kernelspec": {
   "display_name": "Python 3",
   "language": "python",
   "name": "python3"
  },
  "language_info": {
   "codemirror_mode": {
    "name": "ipython",
    "version": 3
   },
   "file_extension": ".py",
   "mimetype": "text/x-python",
   "name": "python",
   "nbconvert_exporter": "python",
   "pygments_lexer": "ipython3",
   "version": "3.7.6"
  }
 },
 "nbformat": 4,
 "nbformat_minor": 4
}
